{
 "cells": [
  {
   "cell_type": "markdown",
   "metadata": {},
   "source": [
    "# Demostración de acceso a la API de Twitter.\n",
    "\n",
    "En esta notebook podemos ejecutar el código de [analisis_twitter.py](analisis_twitter.py) como un módulo.\n",
    "\n"
   ]
  },
  {
   "cell_type": "markdown",
   "metadata": {},
   "source": [
    "## Adquisición de las credenciales de acceso a la API Twitter.\n",
    "\n",
    "Es necesario contar con las credenciales generadas desde una aplicación registrada en https://apps.twitter.com en el archivo [credenciales.txt](credenciales.txt). Cada credencial corresponde a una línea en el siguiente orden:\n",
    "* CONSUMER_KEY\n",
    "* CONSUMER_SECRET\n",
    "* ACCESS_TOKEN\n",
    "* ACCESS_TOKEN_SECRET"
   ]
  },
  {
   "cell_type": "markdown",
   "metadata": {},
   "source": [
    "## Instalación de los módulos requeridos.\n",
    "\n",
    "Se utilizará *pip* para cargar en instalar los módulos requeridos por la aplicacion. "
   ]
  },
  {
   "cell_type": "code",
   "execution_count": null,
   "metadata": {
    "scrolled": false
   },
   "outputs": [],
   "source": [
    "!pip install networkx twitter wordcloud nltk"
   ]
  },
  {
   "cell_type": "markdown",
   "metadata": {},
   "source": [
    "## Ejecución de la aplicación como módulo."
   ]
  },
  {
   "cell_type": "markdown",
   "metadata": {},
   "source": [
    "Se importará el código de *analisis_twitter.py* y se le dará el nombre de *at*. "
   ]
  },
  {
   "cell_type": "code",
   "execution_count": null,
   "metadata": {},
   "outputs": [],
   "source": [
    "import analisis_twitter as at"
   ]
  },
  {
   "cell_type": "markdown",
   "metadata": {},
   "source": [
    "### Búsquedas mediante la función *at.main()*.\n",
    "\n",
    "Esta función permite realizar la búsqueda de los 500 twitts en español más recientes que incluyan el término que se ingresa en la casilla.\n",
    "\n",
    "* Los tuits resultantes de la búsqueda serán guardada en [*tuits.json*](tuits.json). En caso de que el archivo *twits.json* exista, los nuevos tuits se añadirán al archivo.\n",
    "* Se desplegará un mapa de grafos describiendo las relaciones entre usuarios utlizando el término de búsqueda.\n",
    "* La función regresará una compilación de todos los textos de los tuits alamcenados, descartando las palabras guardadas en [*lista_negra.csv*](lista_negra.csv)."
   ]
  },
  {
   "cell_type": "code",
   "execution_count": null,
   "metadata": {},
   "outputs": [],
   "source": [
    "at.main()"
   ]
  },
  {
   "cell_type": "markdown",
   "metadata": {},
   "source": [
    "## Creación de una nube de palabras.\n",
    "\n",
    "Para crear una nube de palabras es necesario ligar el texto que regresa *at.main()* con un nombre. En este caso, se utilizará el nombre *texto*."
   ]
  },
  {
   "cell_type": "code",
   "execution_count": null,
   "metadata": {},
   "outputs": [],
   "source": [
    "texto = at.main()"
   ]
  },
  {
   "cell_type": "markdown",
   "metadata": {},
   "source": [
    "## Creación del mapa con *at.nube()*.\n",
    "\n",
    "La función *at.nube()* crea una nube de palabras a partir del texto que se ingrese como argumento."
   ]
  },
  {
   "cell_type": "code",
   "execution_count": null,
   "metadata": {},
   "outputs": [],
   "source": [
    "at.nube(texto)"
   ]
  }
 ],
 "metadata": {
  "kernelspec": {
   "display_name": "Python 3",
   "language": "python",
   "name": "python3"
  },
  "language_info": {
   "codemirror_mode": {
    "name": "ipython",
    "version": 3
   },
   "file_extension": ".py",
   "mimetype": "text/x-python",
   "name": "python",
   "nbconvert_exporter": "python",
   "pygments_lexer": "ipython3",
   "version": "3.6.3"
  }
 },
 "nbformat": 4,
 "nbformat_minor": 2
}
